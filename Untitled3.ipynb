{
 "cells": [
  {
   "cell_type": "code",
   "execution_count": 1,
   "id": "bb68fd41",
   "metadata": {},
   "outputs": [],
   "source": [
    "from questions.models import Subject"
   ]
  },
  {
   "cell_type": "code",
   "execution_count": 10,
   "id": "21418851",
   "metadata": {},
   "outputs": [],
   "source": [
    "import json, requests"
   ]
  },
  {
   "cell_type": "code",
   "execution_count": 2,
   "id": "9dcd5343",
   "metadata": {},
   "outputs": [],
   "source": [
    "url = 'https://brainbooks.pk/api/chapterjsonlistwithtopic'"
   ]
  },
  {
   "cell_type": "code",
   "execution_count": 3,
   "id": "9c852d8c",
   "metadata": {},
   "outputs": [],
   "source": [
    "payload = {}    "
   ]
  },
  {
   "cell_type": "code",
   "execution_count": 6,
   "id": "234a1aef",
   "metadata": {},
   "outputs": [],
   "source": [
    "import os\n",
    "import django\n",
    "os.environ.setdefault('DJANGO_SETTINGS_MODULE', 'brainbooks.settings')\n",
    "os.environ[\"DJANGO_ALLOW_ASYNC_UNSAFE\"] = \"true\"\n",
    "django.setup()"
   ]
  },
  {
   "cell_type": "code",
   "execution_count": 8,
   "id": "c820017b",
   "metadata": {},
   "outputs": [],
   "source": [
    "subject_ids = Subject.objects.values('subject_id')"
   ]
  },
  {
   "cell_type": "code",
   "execution_count": 9,
   "id": "d74ba6b6",
   "metadata": {},
   "outputs": [
    {
     "data": {
      "text/plain": [
       "<QuerySet [{'subject_id': 32}, {'subject_id': 29}, {'subject_id': 33}, {'subject_id': 34}, {'subject_id': 1}, {'subject_id': 8}, {'subject_id': 9}, {'subject_id': 30}, {'subject_id': 36}, {'subject_id': 31}, {'subject_id': 27}, {'subject_id': 35}, {'subject_id': 37}, {'subject_id': 39}, {'subject_id': 38}, {'subject_id': 89}, {'subject_id': 90}, {'subject_id': 106}, {'subject_id': 107}, {'subject_id': 42}, '...(remaining elements truncated)...']>"
      ]
     },
     "execution_count": 9,
     "metadata": {},
     "output_type": "execute_result"
    }
   ],
   "source": [
    "subject_ids"
   ]
  },
  {
   "cell_type": "code",
   "execution_count": 23,
   "id": "b876914c",
   "metadata": {},
   "outputs": [
    {
     "name": "stdout",
     "output_type": "stream",
     "text": [
      "{'subject_id': 32, 'question_status': 2}\n",
      "<Response [200]>\n"
     ]
    },
    {
     "name": "stdout",
     "output_type": "stream",
     "text": [
      "{'error': {'error': 0, 'errormessage': ''}, 'data': [{'ch_id': '1014', 'board_id': '1', 'class_id': '1', 'subject_id': '32', 'chapter': '1', 'title': ': حصہ نثر\\r\\n', 'u_title': '', 'short_des': '0', 'pairing_scheme_mcqs': '', 'pairing_scheme_sqs_q2': '', 'pairing_scheme_sqs_q3': '', 'pairing_scheme_sqs_q4': '', 'pairing_scheme_lqs_4a': '', 'pairing_scheme_lqs_4b': '', 'pairing_scheme_lqs_5a': '', 'pairing_scheme_lqs_5b': '', 'pairing_scheme_lqs_6a': '', 'pairing_scheme_lqs_6b': '', 'pairing_scheme_lqs_7a': '', 'pairing_scheme_lqs_7b': '', 'pairing_scheme_lqs_8a': '', 'pairing_scheme_lqs_8b': '', 'pairing_scheme_lqs_9a': '', 'pairing_scheme_lqs_9b': '', 'status': '1', 'display_order': '1', 'is_paid': '0', 'text_align': '1', 'disabled': False, 'allowqtype': ['lq', 'mcqs', 'sq'], 'topics': [{'topic_id': '3781', 'board_id': '1', 'class_id': '1', 'subject_id': '32', 'ch_id': '1014', 'topic': '1.01', 'title': 'ہجرتِ نبوی ﷺ\\r\\n', 'status': '1', 'display_order': '1', 'is_paid': '0', 'is_hide': '0', 'disabled': False}, {'topic_id': '3782', 'board_id': '1', 'class_id': '1', 'subject_id': '32', 'ch_id': '1014', 'topic': '1.2', 'title': 'مرزا غالب کے عادات و خصائل\\r\\n', 'status': '2', 'display_order': '2', 'is_paid': '1', 'is_hide': '0', 'disabled': False}, {'topic_id': '3783', 'board_id': '1', 'class_id': '1', 'subject_id': '32', 'ch_id': '1014', 'topic': '1.3', 'title': 'کاہلی\\r\\n', 'status': '1', 'display_order': '3', 'is_paid': '0', 'is_hide': '0', 'disabled': False}, {'topic_id': '3784', 'board_id': '1', 'class_id': '1', 'subject_id': '32', 'ch_id': '1014', 'topic': '1.4', 'title': 'شاعروں کے لطیفے\\r\\n', 'status': '2', 'display_order': '4', 'is_paid': '1', 'is_hide': '0', 'disabled': False}, {'topic_id': '3785', 'board_id': '1', 'class_id': '1', 'subject_id': '32', 'ch_id': '1014', 'topic': '1.5', 'title': 'نصوع اور سلیم کی گفتگو\\r\\n', 'status': '2', 'display_order': '5', 'is_paid': '1', 'is_hide': '0', 'disabled': False}, {'topic_id': '3786', 'board_id': '1', 'class_id': '1', 'subject_id': '32', 'ch_id': '1014', 'topic': '1.6', 'title': 'پنچایت\\r\\n', 'status': '2', 'display_order': '6', 'is_paid': '1', 'is_hide': '0', 'disabled': False}, {'topic_id': '3787', 'board_id': '1', 'class_id': '1', 'subject_id': '32', 'ch_id': '1014', 'topic': '1.7', 'title': 'آرام وسکون\\r\\n', 'status': '1', 'display_order': '7', 'is_paid': '1', 'is_hide': '0', 'disabled': False}, {'topic_id': '3788', 'board_id': '1', 'class_id': '1', 'subject_id': '32', 'ch_id': '1014', 'topic': '1.8', 'title': 'لہووقالین\\r\\n', 'status': '2', 'display_order': '8', 'is_paid': '1', 'is_hide': '0', 'disabled': False}, {'topic_id': '3789', 'board_id': '1', 'class_id': '1', 'subject_id': '32', 'ch_id': '1014', 'topic': '1.9', 'title': 'امتحان\\r\\n', 'status': '1', 'display_order': '9', 'is_paid': '1', 'is_hide': '0', 'disabled': False}, {'topic_id': '3790', 'board_id': '1', 'class_id': '1', 'subject_id': '32', 'ch_id': '1014', 'topic': '1.1', 'title': 'ملکی پرندے اور دوسرے جانور\\r\\n', 'status': '2', 'display_order': '10', 'is_paid': '1', 'is_hide': '0', 'disabled': False}, {'topic_id': '3791', 'board_id': '1', 'class_id': '1', 'subject_id': '32', 'ch_id': '1014', 'topic': '1.11', 'title': 'قدرایاز\\r\\n', 'status': '1', 'display_order': '11', 'is_paid': '1', 'is_hide': '0', 'disabled': False}, {'topic_id': '3827', 'board_id': '1', 'class_id': '1', 'subject_id': '32', 'ch_id': '1014', 'topic': '1.12', 'title': 'حوصلہ نہ ہاروآگےبڑھومنزل اَب کے دُور نہیں\\r\\n', 'status': '2', 'display_order': '12', 'is_paid': '1', 'is_hide': '0', 'disabled': False}]}, {'ch_id': '1015', 'board_id': '1', 'class_id': '1', 'subject_id': '32', 'chapter': '2', 'title': '&nbsp;: حصہ نظم\\r\\n', 'u_title': '', 'short_des': '0', 'pairing_scheme_mcqs': '', 'pairing_scheme_sqs_q2': '', 'pairing_scheme_sqs_q3': '', 'pairing_scheme_sqs_q4': '', 'pairing_scheme_lqs_4a': '', 'pairing_scheme_lqs_4b': '', 'pairing_scheme_lqs_5a': '', 'pairing_scheme_lqs_5b': '', 'pairing_scheme_lqs_6a': '', 'pairing_scheme_lqs_6b': '', 'pairing_scheme_lqs_7a': '', 'pairing_scheme_lqs_7b': '', 'pairing_scheme_lqs_8a': '', 'pairing_scheme_lqs_8b': '', 'pairing_scheme_lqs_9a': '', 'pairing_scheme_lqs_9b': '', 'status': '1', 'display_order': '2', 'is_paid': '0', 'text_align': '1', 'disabled': False, 'allowqtype': ['lq', 'mcqs', 'sq'], 'topics': [{'topic_id': '3792', 'board_id': '1', 'class_id': '1', 'subject_id': '32', 'ch_id': '1015', 'topic': '2.1', 'title': 'حمد\\r\\n', 'status': '1', 'display_order': '12', 'is_paid': '0', 'is_hide': '0', 'disabled': False}, {'topic_id': '3793', 'board_id': '1', 'class_id': '1', 'subject_id': '32', 'ch_id': '1015', 'topic': '2.2', 'title': 'نعت\\r\\n', 'status': '1', 'display_order': '13', 'is_paid': '1', 'is_hide': '0', 'disabled': False}, {'topic_id': '3794', 'board_id': '1', 'class_id': '1', 'subject_id': '32', 'ch_id': '1015', 'topic': '2.3', 'title': 'برسات کی بہاریں\\r\\n', 'status': '2', 'display_order': '14', 'is_paid': '1', 'is_hide': '0', 'disabled': False}, {'topic_id': '3795', 'board_id': '1', 'class_id': '1', 'subject_id': '32', 'ch_id': '1015', 'topic': '2.4', 'title': 'پیوستہ رہ شجر سے اُمیدِ بہار رکھ\\r\\n', 'status': '1', 'display_order': '15', 'is_paid': '1', 'is_hide': '0', 'disabled': False}]}, {'ch_id': '1016', 'board_id': '1', 'class_id': '1', 'subject_id': '32', 'chapter': '3', 'title': ': حصہ غزل\\r\\n', 'u_title': '', 'short_des': '0', 'pairing_scheme_mcqs': '', 'pairing_scheme_sqs_q2': '', 'pairing_scheme_sqs_q3': '', 'pairing_scheme_sqs_q4': '', 'pairing_scheme_lqs_4a': '', 'pairing_scheme_lqs_4b': '', 'pairing_scheme_lqs_5a': '', 'pairing_scheme_lqs_5b': '', 'pairing_scheme_lqs_6a': '', 'pairing_scheme_lqs_6b': '', 'pairing_scheme_lqs_7a': '', 'pairing_scheme_lqs_7b': '', 'pairing_scheme_lqs_8a': '', 'pairing_scheme_lqs_8b': '', 'pairing_scheme_lqs_9a': '', 'pairing_scheme_lqs_9b': '', 'status': '1', 'display_order': '3', 'is_paid': '0', 'text_align': '1', 'disabled': False, 'allowqtype': ['lq', 'mcqs', 'sq'], 'topics': [{'topic_id': '3796', 'board_id': '1', 'class_id': '1', 'subject_id': '32', 'ch_id': '1016', 'topic': '3.1', 'title': 'ہستی اپنی حباب کی سی ہے\\r\\n', 'status': '1', 'display_order': '16', 'is_paid': '0', 'is_hide': '0', 'disabled': False}, {'topic_id': '3797', 'board_id': '1', 'class_id': '1', 'subject_id': '32', 'ch_id': '1016', 'topic': '3.2', 'title': 'رُخ و زلف پر&nbsp;جان کھویا کیا\\r\\n', 'status': '2', 'display_order': '17', 'is_paid': '1', 'is_hide': '0', 'disabled': False}, {'topic_id': '3798', 'board_id': '1', 'class_id': '1', 'subject_id': '32', 'ch_id': '1016', 'topic': '3.3', 'title': 'دلِ ناداں تجھے ہُوا کیا ہے؟\\r\\n', 'status': '1', 'display_order': '18', 'is_paid': '1', 'is_hide': '0', 'disabled': False}, {'topic_id': '3799', 'board_id': '1', 'class_id': '1', 'subject_id': '32', 'ch_id': '1016', 'topic': '3.4', 'title': 'لگتا نہیں ہے دِل مرا اُجڑے دیارمیں\\r\\n', 'status': '2', 'display_order': '19', 'is_paid': '1', 'is_hide': '0', 'disabled': False}]}, {'ch_id': '561', 'board_id': '1', 'class_id': '1', 'subject_id': '32', 'chapter': '4', 'title': ': حصہ گرامر\\r\\n', 'u_title': '', 'short_des': '1', 'pairing_scheme_mcqs': '', 'pairing_scheme_sqs_q2': '', 'pairing_scheme_sqs_q3': '', 'pairing_scheme_sqs_q4': '', 'pairing_scheme_lqs_4a': '', 'pairing_scheme_lqs_4b': '', 'pairing_scheme_lqs_5a': '', 'pairing_scheme_lqs_5b': '', 'pairing_scheme_lqs_6a': '', 'pairing_scheme_lqs_6b': '', 'pairing_scheme_lqs_7a': '', 'pairing_scheme_lqs_7b': '', 'pairing_scheme_lqs_8a': '', 'pairing_scheme_lqs_8b': '', 'pairing_scheme_lqs_9a': '', 'pairing_scheme_lqs_9b': '', 'status': '1', 'display_order': '4', 'is_paid': '0', 'text_align': '1', 'disabled': False, 'allowqtype': ['lq', 'mcqs'], 'topics': [{'topic_id': '2712', 'board_id': '1', 'class_id': '1', 'subject_id': '32', 'ch_id': '561', 'topic': '4.1', 'title': 'واحدجمع\\r\\n', 'status': '1', 'display_order': '21', 'is_paid': '0', 'is_hide': '0', 'disabled': False}, {'topic_id': '2724', 'board_id': '1', 'class_id': '1', 'subject_id': '32', 'ch_id': '561', 'topic': '4.2', 'title': 'مذکر و مونث\\r\\n', 'status': '1', 'display_order': '23', 'is_paid': '0', 'is_hide': '0', 'disabled': False}, {'topic_id': '2714', 'board_id': '1', 'class_id': '1', 'subject_id': '32', 'ch_id': '561', 'topic': '4.3', 'title': 'مترادف الفاظ\\r\\n', 'status': '1', 'display_order': '24', 'is_paid': '0', 'is_hide': '0', 'disabled': False}, {'topic_id': '2715', 'board_id': '1', 'class_id': '1', 'subject_id': '32', 'ch_id': '561', 'topic': '4.4', 'title': 'متضاد الفاظ\\r\\n', 'status': '1', 'display_order': '25', 'is_paid': '0', 'is_hide': '0', 'disabled': False}, {'topic_id': '2754', 'board_id': '1', 'class_id': '1', 'subject_id': '32', 'ch_id': '561', 'topic': '4.5', 'title': 'جملوں کی درستی\\r\\n', 'status': '1', 'display_order': '30', 'is_paid': '0', 'is_hide': '0', 'disabled': False}, {'topic_id': '3501', 'board_id': '1', 'class_id': '1', 'subject_id': '32', 'ch_id': '561', 'topic': '4.6', 'title': 'جملوں کی تکمیل\\r\\n', 'status': '1', 'display_order': '31', 'is_paid': '0', 'is_hide': '0', 'disabled': False}]}, {'ch_id': '1142', 'board_id': '1', 'class_id': '1', 'subject_id': '32', 'chapter': '5', 'title': 'خطوط\\r\\n', 'u_title': '', 'short_des': '1', 'pairing_scheme_mcqs': '', 'pairing_scheme_sqs_q2': '', 'pairing_scheme_sqs_q3': '', 'pairing_scheme_sqs_q4': '', 'pairing_scheme_lqs_4a': '', 'pairing_scheme_lqs_4b': '', 'pairing_scheme_lqs_5a': '', 'pairing_scheme_lqs_5b': '', 'pairing_scheme_lqs_6a': '', 'pairing_scheme_lqs_6b': '', 'pairing_scheme_lqs_7a': '', 'pairing_scheme_lqs_7b': '', 'pairing_scheme_lqs_8a': '', 'pairing_scheme_lqs_8b': '', 'pairing_scheme_lqs_9a': '', 'pairing_scheme_lqs_9b': '', 'status': '1', 'display_order': '5', 'is_paid': '0', 'text_align': '1', 'disabled': False, 'allowqtype': [], 'topics': [{'topic_id': '4153', 'board_id': '1', 'class_id': '1', 'subject_id': '32', 'ch_id': '1142', 'topic': '5.1', 'title': 'PTB خطوط (1-تا-4)\\r\\n', 'status': '1', 'display_order': '1', 'is_paid': '0', 'is_hide': '0', 'disabled': False}, {'topic_id': '4154', 'board_id': '1', 'class_id': '1', 'subject_id': '32', 'ch_id': '1142', 'topic': '5.2', 'title': 'PTB خطوط (5-تا-8)\\r\\n', 'status': '1', 'display_order': '2', 'is_paid': '1', 'is_hide': '0', 'disabled': False}, {'topic_id': '4155', 'board_id': '1', 'class_id': '1', 'subject_id': '32', 'ch_id': '1142', 'topic': '5.3', 'title': 'PTB خطوط (9-تا-12)\\r\\n', 'status': '1', 'display_order': '2', 'is_paid': '1', 'is_hide': '0', 'disabled': False}, {'topic_id': '4156', 'board_id': '1', 'class_id': '1', 'subject_id': '32', 'ch_id': '1142', 'topic': '5.4', 'title': 'خطوط (اضافی پاسٹ پیپرز)\\r\\n', 'status': '1', 'display_order': '4', 'is_paid': '1', 'is_hide': '0', 'disabled': False}]}, {'ch_id': '1143', 'board_id': '1', 'class_id': '1', 'subject_id': '32', 'chapter': '6', 'title': 'درخواستیں\\r\\n', 'u_title': '', 'short_des': '1', 'pairing_scheme_mcqs': '', 'pairing_scheme_sqs_q2': '', 'pairing_scheme_sqs_q3': '', 'pairing_scheme_sqs_q4': '', 'pairing_scheme_lqs_4a': '', 'pairing_scheme_lqs_4b': '', 'pairing_scheme_lqs_5a': '', 'pairing_scheme_lqs_5b': '', 'pairing_scheme_lqs_6a': '', 'pairing_scheme_lqs_6b': '', 'pairing_scheme_lqs_7a': '', 'pairing_scheme_lqs_7b': '', 'pairing_scheme_lqs_8a': '', 'pairing_scheme_lqs_8b': '', 'pairing_scheme_lqs_9a': '', 'pairing_scheme_lqs_9b': '', 'status': '1', 'display_order': '6', 'is_paid': '0', 'text_align': '1', 'disabled': False, 'allowqtype': [], 'topics': [{'topic_id': '4157', 'board_id': '1', 'class_id': '1', 'subject_id': '32', 'ch_id': '1143', 'topic': '6.1', 'title': 'PTB درخواستیں (1-تا-4)\\r\\n', 'status': '1', 'display_order': '1', 'is_paid': '0', 'is_hide': '0', 'disabled': False}, {'topic_id': '4158', 'board_id': '1', 'class_id': '1', 'subject_id': '32', 'ch_id': '1143', 'topic': '6.2', 'title': 'PTB درخواستیں (5-تا-7)\\r\\n', 'status': '1', 'display_order': '2', 'is_paid': '1', 'is_hide': '0', 'disabled': False}, {'topic_id': '4159', 'board_id': '1', 'class_id': '1', 'subject_id': '32', 'ch_id': '1143', 'topic': '6.3', 'title': 'درخواستیں (اضافی پاسٹ پیپرز)\\r\\n', 'status': '1', 'display_order': '3', 'is_paid': '1', 'is_hide': '0', 'disabled': False}]}, {'ch_id': '1144', 'board_id': '1', 'class_id': '1', 'subject_id': '32', 'chapter': '7', 'title': 'کہانی\\r\\n', 'u_title': '', 'short_des': '1', 'pairing_scheme_mcqs': '', 'pairing_scheme_sqs_q2': '', 'pairing_scheme_sqs_q3': '', 'pairing_scheme_sqs_q4': '', 'pairing_scheme_lqs_4a': '', 'pairing_scheme_lqs_4b': '', 'pairing_scheme_lqs_5a': '', 'pairing_scheme_lqs_5b': '', 'pairing_scheme_lqs_6a': '', 'pairing_scheme_lqs_6b': '', 'pairing_scheme_lqs_7a': '', 'pairing_scheme_lqs_7b': '', 'pairing_scheme_lqs_8a': '', 'pairing_scheme_lqs_8b': '', 'pairing_scheme_lqs_9a': '', 'pairing_scheme_lqs_9b': '', 'status': '1', 'display_order': '7', 'is_paid': '0', 'text_align': '1', 'disabled': False, 'allowqtype': [], 'topics': [{'topic_id': '4170', 'board_id': '1', 'class_id': '1', 'subject_id': '32', 'ch_id': '1144', 'topic': '7.1', 'title': 'PTB کہانیاں (1-تا-4)\\r\\n', 'status': '1', 'display_order': '1', 'is_paid': '0', 'is_hide': '0', 'disabled': False}, {'topic_id': '4171', 'board_id': '1', 'class_id': '1', 'subject_id': '32', 'ch_id': '1144', 'topic': '7.2', 'title': 'PTB کہانیاں (5-تا-8)\\r\\n', 'status': '1', 'display_order': '2', 'is_paid': '1', 'is_hide': '0', 'disabled': False}, {'topic_id': '4172', 'board_id': '1', 'class_id': '1', 'subject_id': '32', 'ch_id': '1144', 'topic': '7.3', 'title': 'PTB کہانیاں (9- تا-12)\\r\\n', 'status': '1', 'display_order': '3', 'is_paid': '1', 'is_hide': '0', 'disabled': False}, {'topic_id': '4173', 'board_id': '1', 'class_id': '1', 'subject_id': '32', 'ch_id': '1144', 'topic': '7.4', 'title': 'PTB کہانیاں (13-&nbsp;تا-16)\\r\\n', 'status': '1', 'display_order': '4', 'is_paid': '1', 'is_hide': '0', 'disabled': False}, {'topic_id': '4174', 'board_id': '1', 'class_id': '1', 'subject_id': '32', 'ch_id': '1144', 'topic': '7.5', 'title': 'PTB کہانیاں (17-&nbsp;تا-20)\\r\\n', 'status': '1', 'display_order': '5', 'is_paid': '1', 'is_hide': '0', 'disabled': False}, {'topic_id': '4175', 'board_id': '1', 'class_id': '1', 'subject_id': '32', 'ch_id': '1144', 'topic': '7.6', 'title': 'PTB کہانیاں (21-&nbsp;تا-22)\\r\\n', 'status': '1', 'display_order': '6', 'is_paid': '1', 'is_hide': '0', 'disabled': False}]}, {'ch_id': '1145', 'board_id': '1', 'class_id': '1', 'subject_id': '32', 'chapter': '8', 'title': 'مکالمہ\\r\\n', 'u_title': '', 'short_des': '1', 'pairing_scheme_mcqs': '', 'pairing_scheme_sqs_q2': '', 'pairing_scheme_sqs_q3': '', 'pairing_scheme_sqs_q4': '', 'pairing_scheme_lqs_4a': '', 'pairing_scheme_lqs_4b': '', 'pairing_scheme_lqs_5a': '', 'pairing_scheme_lqs_5b': '', 'pairing_scheme_lqs_6a': '', 'pairing_scheme_lqs_6b': '', 'pairing_scheme_lqs_7a': '', 'pairing_scheme_lqs_7b': '', 'pairing_scheme_lqs_8a': '', 'pairing_scheme_lqs_8b': '', 'pairing_scheme_lqs_9a': '', 'pairing_scheme_lqs_9b': '', 'status': '1', 'display_order': '8', 'is_paid': '0', 'text_align': '1', 'disabled': False, 'allowqtype': [], 'topics': [{'topic_id': '4177', 'board_id': '1', 'class_id': '1', 'subject_id': '32', 'ch_id': '1145', 'topic': '8.1', 'title': 'PTB مکالمہ (1-&nbsp;تا-3)\\r\\n', 'status': '1', 'display_order': '1', 'is_paid': '0', 'is_hide': '0', 'disabled': False}, {'topic_id': '4178', 'board_id': '1', 'class_id': '1', 'subject_id': '32', 'ch_id': '1145', 'topic': '8.2', 'title': 'PTB مکالمہ (4-&nbsp;تا-6)\\r\\n', 'status': '1', 'display_order': '2', 'is_paid': '1', 'is_hide': '0', 'disabled': False}, {'topic_id': '4179', 'board_id': '1', 'class_id': '1', 'subject_id': '32', 'ch_id': '1145', 'topic': '8.3', 'title': 'مکالمہ (اضافی پاسٹ پیپرز)\\r\\n', 'status': '1', 'display_order': '3', 'is_paid': '1', 'is_hide': '0', 'disabled': False}]}]}\n"
     ]
    }
   ],
   "source": [
    "payload['subject_id'] = subject_id['subject_id']\n",
    "payload['question_status'] = 2\n",
    "print(payload)\n",
    "response = requests.post(url, data=payload)\n",
    "print(response)\n",
    "if response.status_code == 200:\n",
    "    json_data = json.loads(response.text)\n",
    "    print(json_data)\n",
    "    #son_data['data']    "
   ]
  },
  {
   "cell_type": "code",
   "execution_count": 18,
   "id": "085f36ac",
   "metadata": {},
   "outputs": [
    {
     "data": {
      "text/plain": [
       "200"
      ]
     },
     "execution_count": 18,
     "metadata": {},
     "output_type": "execute_result"
    }
   ],
   "source": [
    "response.status_code"
   ]
  },
  {
   "cell_type": "code",
   "execution_count": 19,
   "id": "c3e208eb",
   "metadata": {},
   "outputs": [
    {
     "data": {
      "text/plain": [
       "{'error': {'error': 0, 'errormessage': ''}, 'data': []}"
      ]
     },
     "execution_count": 19,
     "metadata": {},
     "output_type": "execute_result"
    }
   ],
   "source": []
  },
  {
   "cell_type": "code",
   "execution_count": null,
   "id": "0859e0d3",
   "metadata": {
    "collapsed": true
   },
   "outputs": [],
   "source": []
  }
 ],
 "metadata": {
  "kernelspec": {
   "display_name": "Django Shell-Plus",
   "language": "python",
   "name": "django_extensions"
  },
  "language_info": {
   "codemirror_mode": {
    "name": "ipython",
    "version": 3
   },
   "file_extension": ".py",
   "mimetype": "text/x-python",
   "name": "python",
   "nbconvert_exporter": "python",
   "pygments_lexer": "ipython3",
   "version": "3.8.10"
  }
 },
 "nbformat": 4,
 "nbformat_minor": 5
}
