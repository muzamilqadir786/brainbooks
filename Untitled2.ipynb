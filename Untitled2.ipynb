{
 "cells": [
  {
   "cell_type": "code",
   "execution_count": 13,
   "id": "6fec18ad",
   "metadata": {},
   "outputs": [],
   "source": [
    "from django.db import models"
   ]
  },
  {
   "cell_type": "code",
   "execution_count": 14,
   "id": "6c0ccd4f",
   "metadata": {},
   "outputs": [],
   "source": [
    "from questions.models import Board, Class, Subject"
   ]
  },
  {
   "cell_type": "code",
   "execution_count": 15,
   "id": "133618bc",
   "metadata": {},
   "outputs": [],
   "source": [
    "import os\n",
    "import django\n",
    "os.environ.setdefault('DJANGO_SETTINGS_MODULE', 'brainbooks.settings')\n",
    "os.environ[\"DJANGO_ALLOW_ASYNC_UNSAFE\"] = \"true\"\n",
    "django.setup()"
   ]
  },
  {
   "cell_type": "code",
   "execution_count": 1,
   "id": "1473e5ea",
   "metadata": {},
   "outputs": [
    {
     "data": {
      "text/plain": [
       "(<django.db.models.fields.BigAutoField: id>,\n",
       " <django.db.models.fields.PositiveIntegerField: subject_id>,\n",
       " <django.db.models.fields.related.ForeignKey: board>,\n",
       " <django.db.models.fields.related.ForeignKey: class_name>,\n",
       " <django.db.models.fields.CharField: subject>,\n",
       " <django.db.models.fields.PositiveSmallIntegerField: total_type_questions>,\n",
       " <django.db.models.fields.BooleanField: status>,\n",
       " <django.db.models.fields.files.ImageField: icon>)"
      ]
     },
     "execution_count": 1,
     "metadata": {},
     "output_type": "execute_result"
    }
   ],
   "source": [
    "Subject._meta.get_fields()"
   ]
  },
  {
   "cell_type": "code",
   "execution_count": 22,
   "id": "e35becf1",
   "metadata": {},
   "outputs": [
    {
     "data": {
      "text/plain": [
       "['DoesNotExist',\n",
       " 'MultipleObjectsReturned',\n",
       " '__class__',\n",
       " '__delattr__',\n",
       " '__dict__',\n",
       " '__dir__',\n",
       " '__doc__',\n",
       " '__eq__',\n",
       " '__format__',\n",
       " '__ge__',\n",
       " '__getattribute__',\n",
       " '__getstate__',\n",
       " '__gt__',\n",
       " '__hash__',\n",
       " '__init__',\n",
       " '__init_subclass__',\n",
       " '__le__',\n",
       " '__lt__',\n",
       " '__module__',\n",
       " '__ne__',\n",
       " '__new__',\n",
       " '__reduce__',\n",
       " '__reduce_ex__',\n",
       " '__repr__',\n",
       " '__setattr__',\n",
       " '__setstate__',\n",
       " '__sizeof__',\n",
       " '__str__',\n",
       " '__subclasshook__',\n",
       " '__weakref__',\n",
       " '_check_column_name_clashes',\n",
       " '_check_constraints',\n",
       " '_check_default_pk',\n",
       " '_check_field_name_clashes',\n",
       " '_check_fields',\n",
       " '_check_id_field',\n",
       " '_check_index_together',\n",
       " '_check_indexes',\n",
       " '_check_local_fields',\n",
       " '_check_long_column_names',\n",
       " '_check_m2m_through_same_relationship',\n",
       " '_check_managers',\n",
       " '_check_model',\n",
       " '_check_model_name_db_lookup_clashes',\n",
       " '_check_ordering',\n",
       " '_check_property_name_related_field_accessor_clashes',\n",
       " '_check_single_primary_key',\n",
       " '_check_swappable',\n",
       " '_check_unique_together',\n",
       " '_do_insert',\n",
       " '_do_update',\n",
       " '_get_FIELD_display',\n",
       " '_get_expr_references',\n",
       " '_get_next_or_previous_by_FIELD',\n",
       " '_get_next_or_previous_in_order',\n",
       " '_get_pk_val',\n",
       " '_get_unique_checks',\n",
       " '_meta',\n",
       " '_perform_date_checks',\n",
       " '_perform_unique_checks',\n",
       " '_prepare_related_fields_for_save',\n",
       " '_save_parents',\n",
       " '_save_table',\n",
       " '_set_pk_val',\n",
       " 'board',\n",
       " 'board_id',\n",
       " 'check',\n",
       " 'class_name',\n",
       " 'class_name_id',\n",
       " 'clean',\n",
       " 'clean_fields',\n",
       " 'date_error_message',\n",
       " 'delete',\n",
       " 'from_db',\n",
       " 'full_clean',\n",
       " 'get_deferred_fields',\n",
       " 'icon',\n",
       " 'id',\n",
       " 'insert_data',\n",
       " 'objects',\n",
       " 'pk',\n",
       " 'prepare_database_save',\n",
       " 'refresh_from_db',\n",
       " 'save',\n",
       " 'save_base',\n",
       " 'serializable_value',\n",
       " 'status',\n",
       " 'subject',\n",
       " 'total_type_questions',\n",
       " 'unique_error_message',\n",
       " 'validate_unique']"
      ]
     },
     "execution_count": 22,
     "metadata": {},
     "output_type": "execute_result"
    }
   ],
   "source": [
    "dir(Subject)"
   ]
  },
  {
   "cell_type": "code",
   "execution_count": null,
   "id": "9814b8a8",
   "metadata": {},
   "outputs": [
    {
     "name": "stdout",
     "output_type": "stream",
     "text": [
      "> d:\\a_practice\\brainbooks\\questions\\models.py(95)insert_data()\n",
      "     94                 json_data = json.loads(response.text)\n",
      "---> 95                 for data in json_data['data']:\n",
      "     96                     import ipdb\n",
      "\n",
      "ipdb> data\n",
      "{'subject_id': '32', 'board_id': '1', 'class_id': '1', 'subject': 'Urdu-9', 'short_des': '\\r\\n                        \\r\\n                        \\r\\n                        \\r\\n                        \\r\\n                        Urdu-9\\r\\n                        \\r\\n                          \\r\\n                          \\r\\n                          \\r\\n       ', 'status': '1', 'display_order': '1', 'text_align': '1', 'medium': '0', 'total_type_questions': '15', 'subject_icon': '/icons/urdu-a.png', 'question_type_status': '0'}\n",
      "ipdb> data.keys()\n",
      "dict_keys(['subject_id', 'board_id', 'class_id', 'subject', 'short_des', 'status', 'display_order', 'text_align', 'medium', 'total_type_questions', 'subject_icon', 'question_type_status'])\n",
      "ipdb> for key,val in data:\n",
      "*** SyntaxError: unexpected EOF while parsing\n",
      "ipdb> for key, val in data:\n",
      "*** SyntaxError: unexpected EOF while parsing\n",
      "ipdb> for k\n",
      "*** SyntaxError: invalid syntax\n"
     ]
    }
   ],
   "source": [
    "Subject.insert_data()"
   ]
  },
  {
   "cell_type": "code",
   "execution_count": null,
   "id": "12dc7ae8",
   "metadata": {},
   "outputs": [],
   "source": [
    "data"
   ]
  },
  {
   "cell_type": "code",
   "execution_count": null,
   "id": "a5f72d29",
   "metadata": {},
   "outputs": [],
   "source": []
  }
 ],
 "metadata": {
  "kernelspec": {
   "display_name": "Django Shell-Plus",
   "language": "python",
   "name": "django_extensions"
  },
  "language_info": {
   "codemirror_mode": {
    "name": "ipython",
    "version": 3
   },
   "file_extension": ".py",
   "mimetype": "text/x-python",
   "name": "python",
   "nbconvert_exporter": "python",
   "pygments_lexer": "ipython3",
   "version": "3.8.10"
  }
 },
 "nbformat": 4,
 "nbformat_minor": 5
}
